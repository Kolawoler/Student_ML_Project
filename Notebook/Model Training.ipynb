{
 "cells": [
  {
   "cell_type": "markdown",
   "metadata": {},
   "source": [
    "### Model Prediction\n",
    "\n",
    "\n",
    "\n"
   ]
  },
  {
   "cell_type": "markdown",
   "metadata": {},
   "source": [
    "### Also good to share some mathematical background\n",
    "\n",
    "\n",
    "its also good to visualize how the function works in linear space, here I have demonstrated this below\n",
    "\n",
    "Y = M * x + E   will be transformed into \n",
    "\n",
    "\n",
    "math score)  = B* Gender + B * Ethnic + B * lunch + B * test completed + B*level of education + B * Reading scores + B * Writing score + E\n",
    "\n",
    "\n",
    "where Y = math score - dependent variable\n",
    "\n",
    "\n",
    "B = M and E are parameter - M measures the coeficient of independent variables while E measure the cost function or Error\n",
    "\n",
    "\n",
    "Independent variables are Gender, Ethnic grp, Lunch, test completed and level of Education, Reading score, writing score\n",
    "\n",
    "\n",
    "\n"
   ]
  },
  {
   "cell_type": "markdown",
   "metadata": {},
   "source": [
    "# The Architecture of this problem \n",
    "\n",
    "1. Data Exploration\n",
    "2. Feature engineering / Data transformation\n",
    "3. Data splitting\n",
    "4. Model training \n",
    "5. Fine tuning\n",
    "6. choose the best model and test"
   ]
  },
  {
   "cell_type": "code",
   "execution_count": 22,
   "metadata": {},
   "outputs": [],
   "source": [
    "from sklearn.preprocessing import OneHotEncoder\n",
    "from sklearn.compose import ColumnTransformer # to handle transformations to both object and numerical data\n",
    "from sklearn.preprocessing import StandardScaler\n",
    "import pandas as pd\n",
    "import numpy as np\n",
    "from sklearn.model_selection import train_test_split, GridSearchCV"
   ]
  },
  {
   "cell_type": "code",
   "execution_count": 7,
   "metadata": {},
   "outputs": [],
   "source": [
    "data = pd.read_csv(\"C:/Users/Rotim/OneDrive/Documents/Data_Science_Projects/Student_ML_Project/Notebook/StudentsPerformance.csv\")"
   ]
  },
  {
   "cell_type": "code",
   "execution_count": 8,
   "metadata": {},
   "outputs": [],
   "source": [
    "Y = data['math score']\n",
    "X = data.drop((\"math score\"), axis =1)\n",
    "\n",
    "categorical_features = X.select_dtypes(exclude=\"number\").columns.to_list()\n",
    "numerical_features = X.select_dtypes(exclude=\"object\").columns.to_list()\n",
    "\n",
    "Data_transformer = ColumnTransformer([(\"categorical_transformer\",OneHotEncoder(), categorical_features), \n",
    "                  (\"numerical_transformer\",StandardScaler(), numerical_features)])"
   ]
  },
  {
   "cell_type": "code",
   "execution_count": 9,
   "metadata": {},
   "outputs": [
    {
     "name": "stdout",
     "output_type": "stream",
     "text": [
      "The shape of the transformed data is  (1000, 19)\n"
     ]
    }
   ],
   "source": [
    "X_transformed = Data_transformer.fit_transform(X)\n",
    "\n",
    "print(\"The shape of the transformed data is \", X_transformed.shape)"
   ]
  },
  {
   "cell_type": "markdown",
   "metadata": {},
   "source": [
    "### Data splitting"
   ]
  },
  {
   "cell_type": "code",
   "execution_count": 12,
   "metadata": {},
   "outputs": [],
   "source": [
    "X_train, X_test, Y_train, Y_test = train_test_split(X_transformed, Y, test_size= .2 , random_state= 5)"
   ]
  },
  {
   "cell_type": "markdown",
   "metadata": {},
   "source": [
    "### Model training"
   ]
  },
  {
   "cell_type": "code",
   "execution_count": 13,
   "metadata": {},
   "outputs": [],
   "source": [
    "# lets import base model\n",
    "\n",
    "from sklearn.linear_model import LinearRegression, Lasso, Ridge\n",
    "from sklearn.ensemble import AdaBoostRegressor\n",
    "from sklearn.tree import DecisionTreeRegressor\n",
    "from sklearn.ensemble import RandomForestRegressor\n",
    "from xgboost import XGBClassifier, XGBRegressor\n",
    "from sklearn.metrics import r2_score, mean_absolute_error, root_mean_squared_error,mean_squared_error,accuracy_score"
   ]
  },
  {
   "cell_type": "code",
   "execution_count": 14,
   "metadata": {},
   "outputs": [],
   "source": [
    "# creating a list of models to be used\n",
    "\n",
    "Model_list = {\"linear_model\": LinearRegression(),     \n",
    "              \n",
    "              \"Random_forest\": RandomForestRegressor(),\n",
    "              \"Ridge\" : Ridge(),\n",
    "              \"Lasso\": Lasso(),\n",
    "              \"AdaBoost\" : AdaBoostRegressor(),\n",
    "              \"Decision_Tree\": DecisionTreeRegressor(),\n",
    "             \"Xgboost\" : XGBRegressor() }"
   ]
  },
  {
   "cell_type": "code",
   "execution_count": 15,
   "metadata": {},
   "outputs": [],
   "source": [
    "def Evaluation_model(model):\n",
    "\n",
    "    \"define a function that evaluates the performance of model\"\n",
    "\n",
    "    model.fit(X_train, Y_train)\n",
    "\n",
    "    Y_predict = model.predict(X_test)\n",
    "    MSE = np.mean((Y_predict-Y_test)**2)\n",
    "    R2_score = r2_score(Y_predict,Y_test)\n",
    "\n",
    "    return MSE, R2_score\n"
   ]
  },
  {
   "cell_type": "code",
   "execution_count": 102,
   "metadata": {},
   "outputs": [
    {
     "name": "stdout",
     "output_type": "stream",
     "text": [
      "\n",
      "\n",
      "linear_model\n",
      "MSE 29.806436767578123\n",
      "R2_score 85.89180092567533\n",
      "\n",
      "\n",
      "Random_forest\n",
      "MSE 38.58620401388889\n",
      "R2_score 80.4704402117252\n",
      "\n",
      "\n",
      "Ridge\n",
      "MSE 29.8251410867931\n",
      "R2_score 85.74502961262762\n",
      "\n",
      "\n",
      "Lasso\n",
      "MSE 44.02101368562044\n",
      "R2_score 69.4850103987003\n",
      "\n",
      "\n",
      "AdaBoost\n",
      "MSE 45.81851009465312\n",
      "R2_score 75.69270579083637\n",
      "\n",
      "\n",
      "Decision_Tree\n",
      "MSE 82.775\n",
      "R2_score 62.496541039329465\n",
      "\n",
      "\n",
      "Xgboost\n",
      "MSE 43.44416913995683\n",
      "R2_score 78.52272987365723\n"
     ]
    }
   ],
   "source": [
    "r2_scores_list = []\n",
    "mse_list  = []\n",
    "model_name = []\n",
    "\n",
    "for i in Model_list:\n",
    "    mean_squared_error_, r2_score_values = Evaluation_model(Model_list[i])\n",
    "    r2_scores_list.append(r2_score_values)\n",
    "    mse_list.append(mean_squared_error_)\n",
    "    model_name.append(i)\n",
    "    print(\"\\n\")\n",
    "    print(i)\n",
    "    print(\"MSE\", mean_squared_error_)\n",
    "    print(\"R2_score\", r2_score_values * 100, end = \"\\n\")\n",
    "    # print(\"\\n\")"
   ]
  },
  {
   "cell_type": "markdown",
   "metadata": {},
   "source": [
    "the best model is performing at accuracy of 85.9% and mean squared error of 29.8"
   ]
  },
  {
   "cell_type": "code",
   "execution_count": 104,
   "metadata": {},
   "outputs": [
    {
     "data": {
      "text/html": [
       "<div>\n",
       "<style scoped>\n",
       "    .dataframe tbody tr th:only-of-type {\n",
       "        vertical-align: middle;\n",
       "    }\n",
       "\n",
       "    .dataframe tbody tr th {\n",
       "        vertical-align: top;\n",
       "    }\n",
       "\n",
       "    .dataframe thead th {\n",
       "        text-align: right;\n",
       "    }\n",
       "</style>\n",
       "<table border=\"1\" class=\"dataframe\">\n",
       "  <thead>\n",
       "    <tr style=\"text-align: right;\">\n",
       "      <th></th>\n",
       "      <th>model_name</th>\n",
       "      <th>MSE_values</th>\n",
       "      <th>r2_score_values</th>\n",
       "    </tr>\n",
       "  </thead>\n",
       "  <tbody>\n",
       "    <tr>\n",
       "      <th>0</th>\n",
       "      <td>linear_model</td>\n",
       "      <td>29.806437</td>\n",
       "      <td>0.858918</td>\n",
       "    </tr>\n",
       "    <tr>\n",
       "      <th>1</th>\n",
       "      <td>Random_forest</td>\n",
       "      <td>38.586204</td>\n",
       "      <td>0.804704</td>\n",
       "    </tr>\n",
       "    <tr>\n",
       "      <th>2</th>\n",
       "      <td>Ridge</td>\n",
       "      <td>29.825141</td>\n",
       "      <td>0.857450</td>\n",
       "    </tr>\n",
       "    <tr>\n",
       "      <th>3</th>\n",
       "      <td>Lasso</td>\n",
       "      <td>44.021014</td>\n",
       "      <td>0.694850</td>\n",
       "    </tr>\n",
       "    <tr>\n",
       "      <th>4</th>\n",
       "      <td>AdaBoost</td>\n",
       "      <td>45.818510</td>\n",
       "      <td>0.756927</td>\n",
       "    </tr>\n",
       "    <tr>\n",
       "      <th>5</th>\n",
       "      <td>Decision_Tree</td>\n",
       "      <td>82.775000</td>\n",
       "      <td>0.624965</td>\n",
       "    </tr>\n",
       "    <tr>\n",
       "      <th>6</th>\n",
       "      <td>Xgboost</td>\n",
       "      <td>43.444169</td>\n",
       "      <td>0.785227</td>\n",
       "    </tr>\n",
       "  </tbody>\n",
       "</table>\n",
       "</div>"
      ],
      "text/plain": [
       "      model_name  MSE_values  r2_score_values\n",
       "0   linear_model   29.806437         0.858918\n",
       "1  Random_forest   38.586204         0.804704\n",
       "2          Ridge   29.825141         0.857450\n",
       "3          Lasso   44.021014         0.694850\n",
       "4       AdaBoost   45.818510         0.756927\n",
       "5  Decision_Tree   82.775000         0.624965\n",
       "6        Xgboost   43.444169         0.785227"
      ]
     },
     "execution_count": 104,
     "metadata": {},
     "output_type": "execute_result"
    }
   ],
   "source": [
    "model_performance_scores = pd.DataFrame({\"model_name\" : model_name,\n",
    "              \"MSE_values\" : mse_list, \n",
    "              \"r2_score_values\" : r2_scores_list})\n",
    "model_performance_scores\n"
   ]
  },
  {
   "cell_type": "code",
   "execution_count": 105,
   "metadata": {},
   "outputs": [],
   "source": [
    "### Selecting Linear model"
   ]
  },
  {
   "cell_type": "code",
   "execution_count": 114,
   "metadata": {},
   "outputs": [
    {
     "name": "stdout",
     "output_type": "stream",
     "text": [
      "r2_score is : 85.89 \n",
      " Mean squared error is : 29.806436767578123\n"
     ]
    }
   ],
   "source": [
    "Linear_model = LinearRegression(fit_intercept= True)\n",
    "Linear_model.fit(X_train, Y_train)\n",
    "\n",
    "Y_predicted = Linear_model.predict(X_test)\n",
    "\n",
    "r2_score_ = r2_score(Y_predicted , Y_test)\n",
    "MSE = mean_squared_error(Y_predicted , Y_test)\n",
    "\n",
    "print(f'r2_score is : {r2_score_ * 100:.2f}' ,  \"\\n\", \"Mean squared error is :\", MSE)\n",
    "\n"
   ]
  },
  {
   "cell_type": "code",
   "execution_count": null,
   "metadata": {},
   "outputs": [
    {
     "data": {
      "text/plain": [
       "Text(0.5, 1.0, 'The plot of predicted value Vs Actual value')"
      ]
     },
     "execution_count": 117,
     "metadata": {},
     "output_type": "execute_result"
    },
    {
     "data": {
      "image/png": "[encoded data removed]",
      "text/plain": [
       "<Figure size 640x480 with 1 Axes>"
      ]
     },
     "metadata": {},
     "output_type": "display_data"
    }
   ],
   "source": [
    "sb.regplot(x = Y_predicted, y = Y_test)\n",
    "plt.xlabel(\"Predicted value\")\n",
    "plt.xlabel(\"Actual value\")\n",
    "plt.title(\"The plot of predicted value Vs Actual value\");"
   ]
  },
  {
   "cell_type": "code",
   "execution_count": 16,
   "metadata": {},
   "outputs": [
    {
     "data": {
      "text/plain": [
       "{'linear_model': LinearRegression(),\n",
       " 'Random_forest': RandomForestRegressor(),\n",
       " 'Ridge': Ridge(),\n",
       " 'Lasso': Lasso(),\n",
       " 'AdaBoost': AdaBoostRegressor(),\n",
       " 'Decision_Tree': DecisionTreeRegressor(),\n",
       " 'Xgboost': XGBRegressor(base_score=None, booster=None, callbacks=None,\n",
       "              colsample_bylevel=None, colsample_bynode=None,\n",
       "              colsample_bytree=None, device=None, early_stopping_rounds=None,\n",
       "              enable_categorical=False, eval_metric=None, feature_types=None,\n",
       "              gamma=None, grow_policy=None, importance_type=None,\n",
       "              interaction_constraints=None, learning_rate=None, max_bin=None,\n",
       "              max_cat_threshold=None, max_cat_to_onehot=None,\n",
       "              max_delta_step=None, max_depth=None, max_leaves=None,\n",
       "              min_child_weight=None, missing=nan, monotone_constraints=None,\n",
       "              multi_strategy=None, n_estimators=None, n_jobs=None,\n",
       "              num_parallel_tree=None, random_state=None, ...)}"
      ]
     },
     "execution_count": 16,
     "metadata": {},
     "output_type": "execute_result"
    }
   ],
   "source": [
    "Model_list"
   ]
  },
  {
   "cell_type": "code",
   "execution_count": 29,
   "metadata": {},
   "outputs": [
    {
     "name": "stdout",
     "output_type": "stream",
     "text": [
      "the evaluation score before fitting is 0.8574502961262762\n",
      "the evaluation score after setting the best param 0.8575197539638323\n"
     ]
    }
   ],
   "source": [
    "\n",
    "\n",
    "params = {\"alpha\" : [.2, .6, .9]}\n",
    "Ridge_model = Ridge()\n",
    "Ridge_model.fit(X_train, Y_train)\n",
    "r2_scores = r2_score(Ridge_model.predict(X_test), Y_test)\n",
    "\n",
    "print(f\"the evaluation score before fitting is {r2_scores}\"   )\n",
    "\n",
    "\n",
    "gs = GridSearchCV(Ridge_model, params, cv = 3)\n",
    "gs.fit(X_train, Y_train)\n",
    "\n",
    "Ridge_model.set_params(**gs.best_params_)\n",
    "Ridge_model.fit(X_train, Y_train)\n",
    "r2_scores_gd = r2_score(Ridge_model.predict(X_test), Y_test)\n",
    "print(f\"the evaluation score after setting the best param {r2_scores_gd}\")\n",
    "\n",
    "\n",
    "\n",
    "\n",
    "\n",
    "\n",
    "\n",
    "\n",
    "\n",
    "\n"
   ]
  },
  {
   "cell_type": "code",
   "execution_count": null,
   "metadata": {},
   "outputs": [],
   "source": []
  },
  {
   "cell_type": "code",
   "execution_count": 25,
   "metadata": {},
   "outputs": [
    {
     "data": {
      "text/plain": [
       "{'alpha': 0.9}"
      ]
     },
     "execution_count": 25,
     "metadata": {},
     "output_type": "execute_result"
    }
   ],
   "source": [
    "gs.best_params_"
   ]
  },
  {
   "cell_type": "code",
   "execution_count": null,
   "metadata": {},
   "outputs": [],
   "source": []
  }
 ],
 "metadata": {
  "kernelspec": {
   "display_name": "Python 3",
   "language": "python",
   "name": "python3"
  },
  "language_info": {
   "codemirror_mode": {
    "name": "ipython",
    "version": 3
   },
   "file_extension": ".py",
   "mimetype": "text/x-python",
   "name": "python",
   "nbconvert_exporter": "python",
   "pygments_lexer": "ipython3",
   "version": "3.9.19"
  }
 },
 "nbformat": 4,
 "nbformat_minor": 2
}
